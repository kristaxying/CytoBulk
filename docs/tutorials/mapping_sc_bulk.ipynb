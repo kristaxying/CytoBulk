{
 "cells": [
  {
   "cell_type": "markdown",
   "metadata": {},
   "source": [
    "#  Integration with single cell and TCGA bulk data"
   ]
  },
  {
   "cell_type": "markdown",
   "metadata": {},
   "source": [
    "If using an external R installation (may not be necessary on Linux systems)."
   ]
  },
  {
   "cell_type": "code",
   "execution_count": 1,
   "metadata": {},
   "outputs": [],
   "source": [
    "import os\n",
    "os.environ['R_HOME'] = r'C:\\Program Files\\R\\R-4.4.1'"
   ]
  },
  {
   "cell_type": "markdown",
   "metadata": {},
   "source": [
    "## import the packages"
   ]
  },
  {
   "cell_type": "code",
   "execution_count": 2,
   "metadata": {},
   "outputs": [],
   "source": [
    "import os\n",
    "import cytobulk as ct\n",
    "import scanpy as sc\n",
    "import pandas as pd\n",
    "import warnings\n",
    "warnings.filterwarnings(\"ignore\")"
   ]
  },
  {
   "cell_type": "markdown",
   "metadata": {},
   "source": [
    "## Load scRNA-seq and bulk data"
   ]
  },
  {
   "cell_type": "markdown",
   "metadata": {},
   "source": [
    "Load the reference single cell data, e.g. HTAN MSK data [[Download data]](https://drive.google.com/file/d/1TOd0SbSWGGsY-UAqVQ3fzGTJLR5yJowg/view?usp=sharing). and TCGA LUSC data  [[Download data]](https://drive.google.com/file/d/1wlEW4-s7xaiBB-dkn2szymE_6sIJLuyV/view?usp=drive_link)."
   ]
  },
  {
   "cell_type": "code",
   "execution_count": null,
   "metadata": {},
   "outputs": [],
   "source": [
    "sc_adata = sc.read_h5ad(\"C:/Users/wangxueying/project/CytoBulk/case/TCGA_LUSC/input/sub_HTAN_MSK.h5ad\")\n",
    "sc_adata_ori = sc_adata.copy()\n",
    "bulk_adata = sc.read_h5ad(\"C:/Users/wangxueying/project/CytoBulk/case/TCGA_LUSC/input/TCGA_LUSC.h5ad\")"
   ]
  },
  {
   "cell_type": "markdown",
   "metadata": {},
   "source": [
    "The cell type information is be stored in sc_adata.obs['he_cell_type']"
   ]
  },
  {
   "cell_type": "code",
   "execution_count": 4,
   "metadata": {},
   "outputs": [
    {
     "data": {
      "text/plain": [
       "he_cell_type\n",
       "epithelial           25988\n",
       "lymphocytes           4535\n",
       "connective tissue      565\n",
       "neutrophils             69\n",
       "plasma cells             8\n",
       "Name: count, dtype: int64"
      ]
     },
     "execution_count": 4,
     "metadata": {},
     "output_type": "execute_result"
    }
   ],
   "source": [
    "sc_adata.obs['he_cell_type'].value_counts()"
   ]
  },
  {
   "cell_type": "markdown",
   "metadata": {},
   "source": [
    "## Deconvolute bulk data with sc-RNA seq as the reference."
   ]
  },
  {
   "cell_type": "markdown",
   "metadata": {},
   "source": [
    "If you want to use the pretrained model, please download the folder, extract it, and set the path of the extracted folder as the out_dir parameter. [[Download]](https://drive.google.com/file/d/1nBWmHgnZhaX1OeSehVaHeuZ2MXGNB8I_/view?usp=drive_link) This will help you skip the training steps."
   ]
  },
  {
   "cell_type": "code",
   "execution_count": 7,
   "metadata": {},
   "outputs": [],
   "source": [
    "deconv_result,deconv_adata = ct.tl.bulk_deconv(bulk_data = bulk_adata,\n",
    "                                                sc_adata = sc_adata,\n",
    "                                                annotation_key =\"he_cell_type\",\n",
    "                                                out_dir=r\"C:\\Users\\wangxueying\\project\\CytoBulk\\case\\TCGA_LUSC\\TCGA_LUSC_2000\",\n",
    "                                                dataset_name=\"lusc\",\n",
    "                                                different_source=True,\n",
    "                                                downsampling=True,\n",
    "                                                n_cell=2000)"
   ]
  },
  {
   "cell_type": "code",
   "execution_count": 8,
   "metadata": {},
   "outputs": [
    {
     "data": {
      "text/html": [
       "<div>\n",
       "<style scoped>\n",
       "    .dataframe tbody tr th:only-of-type {\n",
       "        vertical-align: middle;\n",
       "    }\n",
       "\n",
       "    .dataframe tbody tr th {\n",
       "        vertical-align: top;\n",
       "    }\n",
       "\n",
       "    .dataframe thead th {\n",
       "        text-align: right;\n",
       "    }\n",
       "</style>\n",
       "<table border=\"1\" class=\"dataframe\">\n",
       "  <thead>\n",
       "    <tr style=\"text-align: right;\">\n",
       "      <th></th>\n",
       "      <th>connective tissue</th>\n",
       "      <th>epithelial</th>\n",
       "      <th>lymphocytes</th>\n",
       "      <th>neutrophils</th>\n",
       "      <th>plasma cells</th>\n",
       "    </tr>\n",
       "  </thead>\n",
       "  <tbody>\n",
       "    <tr>\n",
       "      <th>TCGA-18-3421</th>\n",
       "      <td>0.273443</td>\n",
       "      <td>0.176402</td>\n",
       "      <td>0.199808</td>\n",
       "      <td>0.204587</td>\n",
       "      <td>0.130384</td>\n",
       "    </tr>\n",
       "    <tr>\n",
       "      <th>TCGA-37-4133</th>\n",
       "      <td>0.282663</td>\n",
       "      <td>0.193125</td>\n",
       "      <td>0.156352</td>\n",
       "      <td>0.146849</td>\n",
       "      <td>0.171124</td>\n",
       "    </tr>\n",
       "    <tr>\n",
       "      <th>TCGA-L3-A524</th>\n",
       "      <td>0.337083</td>\n",
       "      <td>0.295797</td>\n",
       "      <td>0.119766</td>\n",
       "      <td>0.124372</td>\n",
       "      <td>0.121685</td>\n",
       "    </tr>\n",
       "    <tr>\n",
       "      <th>TCGA-56-A4ZK</th>\n",
       "      <td>0.322920</td>\n",
       "      <td>0.144941</td>\n",
       "      <td>0.182277</td>\n",
       "      <td>0.145558</td>\n",
       "      <td>0.146625</td>\n",
       "    </tr>\n",
       "    <tr>\n",
       "      <th>TCGA-39-5027</th>\n",
       "      <td>0.241746</td>\n",
       "      <td>0.491989</td>\n",
       "      <td>0.093591</td>\n",
       "      <td>0.133225</td>\n",
       "      <td>0.109625</td>\n",
       "    </tr>\n",
       "  </tbody>\n",
       "</table>\n",
       "</div>"
      ],
      "text/plain": [
       "              connective tissue  epithelial  lymphocytes  neutrophils  \\\n",
       "TCGA-18-3421           0.273443    0.176402     0.199808     0.204587   \n",
       "TCGA-37-4133           0.282663    0.193125     0.156352     0.146849   \n",
       "TCGA-L3-A524           0.337083    0.295797     0.119766     0.124372   \n",
       "TCGA-56-A4ZK           0.322920    0.144941     0.182277     0.145558   \n",
       "TCGA-39-5027           0.241746    0.491989     0.093591     0.133225   \n",
       "\n",
       "              plasma cells  \n",
       "TCGA-18-3421      0.130384  \n",
       "TCGA-37-4133      0.171124  \n",
       "TCGA-L3-A524      0.121685  \n",
       "TCGA-56-A4ZK      0.146625  \n",
       "TCGA-39-5027      0.109625  "
      ]
     },
     "execution_count": 8,
     "metadata": {},
     "output_type": "execute_result"
    }
   ],
   "source": [
    "deconv_result.head(5)"
   ]
  },
  {
   "cell_type": "markdown",
   "metadata": {},
   "source": [
    "## Mapping scRNA-seq to bulk data"
   ]
  },
  {
   "cell_type": "markdown",
   "metadata": {},
   "source": [
    "If you want to use multithreading for mapping, you can set multiprocessing=True and specify the number of CPUs to use with the cpu_num parameter."
   ]
  },
  {
   "cell_type": "code",
   "execution_count": null,
   "metadata": {},
   "outputs": [],
   "source": [
    "reconstructed_cell, reconstructed_adata = ct.tl.bulk_mapping(bulk_adata = deconv_adata,\n",
    "                                                            sc_adata = sc_adata,\n",
    "                                                            out_dir=\"/data1/wangxueying/cytobulk/out/TCGA_LUSC_2000\",\n",
    "                                                            project=\"TCGA_LUSC\",\n",
    "                                                            n_cell=2000,\n",
    "                                                            annotation_key='he_cell_type',\n",
    "                                                            multiprocessing=False)\n",
    "                "
   ]
  },
  {
   "cell_type": "markdown",
   "metadata": {},
   "source": [
    "The matching relationship between single cells and bulk samples is stored in reconstructed_cell. The data assigned to the same bulk sample is aggregated, and the new expression values are stored in reconstructed_adata.layers['mapping_ori'], while the original expression values are stored in reconstructed_adata.X.\n"
   ]
  },
  {
   "cell_type": "code",
   "execution_count": 19,
   "metadata": {},
   "outputs": [
    {
     "data": {
      "text/html": [
       "<div>\n",
       "<style scoped>\n",
       "    .dataframe tbody tr th:only-of-type {\n",
       "        vertical-align: middle;\n",
       "    }\n",
       "\n",
       "    .dataframe tbody tr th {\n",
       "        vertical-align: top;\n",
       "    }\n",
       "\n",
       "    .dataframe thead th {\n",
       "        text-align: right;\n",
       "    }\n",
       "</style>\n",
       "<table border=\"1\" class=\"dataframe\">\n",
       "  <thead>\n",
       "    <tr style=\"text-align: right;\">\n",
       "      <th></th>\n",
       "      <th>sample_id</th>\n",
       "      <th>cell_id</th>\n",
       "    </tr>\n",
       "  </thead>\n",
       "  <tbody>\n",
       "    <tr>\n",
       "      <th>0</th>\n",
       "      <td>TCGA-18-3421</td>\n",
       "      <td>RU426B_197057083469109</td>\n",
       "    </tr>\n",
       "    <tr>\n",
       "      <th>1</th>\n",
       "      <td>TCGA-18-3421</td>\n",
       "      <td>RU426B_135693665261491</td>\n",
       "    </tr>\n",
       "    <tr>\n",
       "      <th>2</th>\n",
       "      <td>TCGA-18-3421</td>\n",
       "      <td>RU1144_T_236768069871899</td>\n",
       "    </tr>\n",
       "    <tr>\n",
       "      <th>3</th>\n",
       "      <td>TCGA-18-3421</td>\n",
       "      <td>RU1311A_T_1_130539716504350</td>\n",
       "    </tr>\n",
       "    <tr>\n",
       "      <th>4</th>\n",
       "      <td>TCGA-18-3421</td>\n",
       "      <td>RU1195A_236107999337252</td>\n",
       "    </tr>\n",
       "  </tbody>\n",
       "</table>\n",
       "</div>"
      ],
      "text/plain": [
       "      sample_id                      cell_id\n",
       "0  TCGA-18-3421       RU426B_197057083469109\n",
       "1  TCGA-18-3421       RU426B_135693665261491\n",
       "2  TCGA-18-3421     RU1144_T_236768069871899\n",
       "3  TCGA-18-3421  RU1311A_T_1_130539716504350\n",
       "4  TCGA-18-3421      RU1195A_236107999337252"
      ]
     },
     "execution_count": 19,
     "metadata": {},
     "output_type": "execute_result"
    }
   ],
   "source": [
    "reconstructed_cell.head(5)"
   ]
  },
  {
   "cell_type": "markdown",
   "metadata": {},
   "source": [
    "### Visulization of marker gene expression similarity between original and reconstructed data"
   ]
  },
  {
   "cell_type": "markdown",
   "metadata": {},
   "source": [
    "Load the marker gene data across cell types. [[Download st data]](https://drive.google.com/file/d/1X_Bc4w-F5uNaZqhpf0AFsBMjpHEoOZY3/view?usp=drive_link)"
   ]
  },
  {
   "cell_type": "code",
   "execution_count": 7,
   "metadata": {},
   "outputs": [],
   "source": [
    "marker_df = pd.read_csv(r\"C:\\Users\\wangxueying\\project\\CytoBulk\\case\\bulk_brca\\marker_gene_symbol.txt\", sep=\"\\t\",index_col=0)"
   ]
  },
  {
   "cell_type": "code",
   "execution_count": 8,
   "metadata": {},
   "outputs": [
    {
     "data": {
      "text/html": [
       "<div>\n",
       "<style scoped>\n",
       "    .dataframe tbody tr th:only-of-type {\n",
       "        vertical-align: middle;\n",
       "    }\n",
       "\n",
       "    .dataframe tbody tr th {\n",
       "        vertical-align: top;\n",
       "    }\n",
       "\n",
       "    .dataframe thead th {\n",
       "        text-align: right;\n",
       "    }\n",
       "</style>\n",
       "<table border=\"1\" class=\"dataframe\">\n",
       "  <thead>\n",
       "    <tr style=\"text-align: right;\">\n",
       "      <th></th>\n",
       "      <th>score</th>\n",
       "      <th>pvalue</th>\n",
       "      <th>adj_pvalue</th>\n",
       "      <th>cell_type</th>\n",
       "      <th>ensg_id</th>\n",
       "      <th>gene_symbol</th>\n",
       "    </tr>\n",
       "    <tr>\n",
       "      <th>gene</th>\n",
       "      <th></th>\n",
       "      <th></th>\n",
       "      <th></th>\n",
       "      <th></th>\n",
       "      <th></th>\n",
       "      <th></th>\n",
       "    </tr>\n",
       "  </thead>\n",
       "  <tbody>\n",
       "    <tr>\n",
       "      <th>ENSG00000142089</th>\n",
       "      <td>13.354671</td>\n",
       "      <td>5.980232e-32</td>\n",
       "      <td>1.183209e-30</td>\n",
       "      <td>connective tissue</td>\n",
       "      <td>ENSG00000142089</td>\n",
       "      <td>IFITM3</td>\n",
       "    </tr>\n",
       "    <tr>\n",
       "      <th>ENSG00000142089</th>\n",
       "      <td>-8.668920</td>\n",
       "      <td>5.285041e-18</td>\n",
       "      <td>1.676378e-17</td>\n",
       "      <td>epithelial</td>\n",
       "      <td>ENSG00000142089</td>\n",
       "      <td>IFITM3</td>\n",
       "    </tr>\n",
       "    <tr>\n",
       "      <th>ENSG00000142089</th>\n",
       "      <td>-3.913898</td>\n",
       "      <td>9.135025e-05</td>\n",
       "      <td>1.656657e-04</td>\n",
       "      <td>lymphocytes</td>\n",
       "      <td>ENSG00000142089</td>\n",
       "      <td>IFITM3</td>\n",
       "    </tr>\n",
       "    <tr>\n",
       "      <th>ENSG00000142089</th>\n",
       "      <td>-2.615495</td>\n",
       "      <td>1.768798e-02</td>\n",
       "      <td>2.432355e-02</td>\n",
       "      <td>neutrophils</td>\n",
       "      <td>ENSG00000142089</td>\n",
       "      <td>IFITM3</td>\n",
       "    </tr>\n",
       "    <tr>\n",
       "      <th>ENSG00000142089</th>\n",
       "      <td>-0.253202</td>\n",
       "      <td>8.101615e-01</td>\n",
       "      <td>8.899934e-01</td>\n",
       "      <td>plasma cells</td>\n",
       "      <td>ENSG00000142089</td>\n",
       "      <td>IFITM3</td>\n",
       "    </tr>\n",
       "  </tbody>\n",
       "</table>\n",
       "</div>"
      ],
      "text/plain": [
       "                     score        pvalue    adj_pvalue          cell_type  \\\n",
       "gene                                                                        \n",
       "ENSG00000142089  13.354671  5.980232e-32  1.183209e-30  connective tissue   \n",
       "ENSG00000142089  -8.668920  5.285041e-18  1.676378e-17         epithelial   \n",
       "ENSG00000142089  -3.913898  9.135025e-05  1.656657e-04        lymphocytes   \n",
       "ENSG00000142089  -2.615495  1.768798e-02  2.432355e-02        neutrophils   \n",
       "ENSG00000142089  -0.253202  8.101615e-01  8.899934e-01       plasma cells   \n",
       "\n",
       "                         ensg_id gene_symbol  \n",
       "gene                                          \n",
       "ENSG00000142089  ENSG00000142089      IFITM3  \n",
       "ENSG00000142089  ENSG00000142089      IFITM3  \n",
       "ENSG00000142089  ENSG00000142089      IFITM3  \n",
       "ENSG00000142089  ENSG00000142089      IFITM3  \n",
       "ENSG00000142089  ENSG00000142089      IFITM3  "
      ]
     },
     "execution_count": 8,
     "metadata": {},
     "output_type": "execute_result"
    }
   ],
   "source": [
    "marker_df.head(5)"
   ]
  },
  {
   "cell_type": "code",
   "execution_count": 11,
   "metadata": {},
   "outputs": [
    {
     "name": "stdout",
     "output_type": "stream",
     "text": [
      "Processing cell_type: connective tissue\n",
      "Processing cell_type: epithelial\n",
      "Processing cell_type: lymphocytes\n",
      "Processing cell_type: neutrophils\n",
      "Processing cell_type: plasma cells\n"
     ]
    },
    {
     "data": {
      "text/plain": [
       "<module 'matplotlib.pyplot' from 'c:\\\\Users\\\\wangxueying\\\\anaconda\\\\envs\\\\cytobulk\\\\lib\\\\site-packages\\\\matplotlib\\\\pyplot.py'>"
      ]
     },
     "execution_count": 11,
     "metadata": {},
     "output_type": "execute_result"
    },
    {
     "data": {
      "image/png": "[encoded data removed]",
      "text/plain": [
       "<Figure size 600x400 with 1 Axes>"
      ]
     },
     "metadata": {},
     "output_type": "display_data"
    }
   ],
   "source": [
    "ct.pl.gene_similarity(reconstructed_adata, marker_df)"
   ]
  }
 ],
 "metadata": {
  "kernelspec": {
   "display_name": "cytobulk",
   "language": "python",
   "name": "python3"
  },
  "language_info": {
   "codemirror_mode": {
    "name": "ipython",
    "version": 3
   },
   "file_extension": ".py",
   "mimetype": "text/x-python",
   "name": "python",
   "nbconvert_exporter": "python",
   "pygments_lexer": "ipython3",
   "version": "3.10.12"
  }
 },
 "nbformat": 4,
 "nbformat_minor": 2
}
