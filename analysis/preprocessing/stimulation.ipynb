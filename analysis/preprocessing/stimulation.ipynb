{
 "cells": [
  {
   "cell_type": "code",
   "execution_count": 1,
   "metadata": {},
   "outputs": [
    {
     "name": "stderr",
     "output_type": "stream",
     "text": [
      "/home/kristawang/miniconda3/envs/cytobulk/lib/python3.9/site-packages/tqdm/auto.py:21: TqdmWarning: IProgress not found. Please update jupyter and ipywidgets. See https://ipywidgets.readthedocs.io/en/stable/user_install.html\n",
      "  from .autonotebook import tqdm as notebook_tqdm\n"
     ]
    }
   ],
   "source": [
    "import pandas as pd\n",
    "import numpy as np\n",
    "from scipy.sparse import csr_matrix\n",
    "from utils import *\n",
    "import anndata\n",
    "import scanpy as sc\n",
    "from pathlib import Path\n"
   ]
  },
  {
   "cell_type": "code",
   "execution_count": 8,
   "metadata": {},
   "outputs": [],
   "source": [
    "def check_paths(output_folder,output_prefix=None):\n",
    "    # Create relative path\n",
    "    output_path = os.path.join(os.getcwd(), output_folder)\n",
    "\n",
    "    # Make sure that the folder exists\n",
    "    Path(output_path).mkdir(parents=True, exist_ok=True)\n",
    "\n",
    "    if os.path.exists(os.path.join(output_path, f\"{output_prefix}assigned_locations.csv\")):\n",
    "        print(\"\\033[91mWARNING\\033[0m: Running this will overwrite previous results, choose a new\"\n",
    "              \" 'output_folder' or 'output_prefix'\")\n",
    "\n",
    "    return output_path\n",
    "\n",
    "def read_file(file_path, file_label):\n",
    "    '''\n",
    "    Read data with given path.\n",
    "    args:\n",
    "        file_path: file path.\n",
    "        file_label: the file label to raise exception.\n",
    "    return:\n",
    "        the read file.\n",
    "    '''\n",
    "    try:\n",
    "        file_delim = \",\" if file_path.endswith(\".csv\") else \"\\t\"\n",
    "        with warnings.catch_warnings():\n",
    "            file_data = pd.read_csv(file_path, sep=file_delim).dropna()\n",
    "    except Exception as e:\n",
    "        raise IOError (f\"Make sure you provided the correct path to {file_label} files. \"\n",
    "                      \"The following input file formats are supported: .csv with comma ',' as \"\n",
    "                      \"delimiter, .txt or .tsv with tab '\\\\t' as delimiter.\")\n",
    "    return file_data"
   ]
  },
  {
   "cell_type": "code",
   "execution_count": 50,
   "metadata": {},
   "outputs": [],
   "source": [
    "def read_single_cell_data(sc_path,meta_path,sc_nor,out_dir,save_ref=True):\n",
    "\n",
    "    \"\"\"read sc data and meta information.\n",
    "    args:\n",
    "        sc_path:    sc-rna data path.\n",
    "        meta_path:  meta data with cell type information path.\n",
    "        sc_nor:     Boolean, true for using preprocessing on sc data.\n",
    "        out_path:   the dir to store the result files.\n",
    "    \"\"\"\n",
    "    warnings.filterwarnings(action='ignore', category=FutureWarning) \n",
    "    warnings.filterwarnings(action='ignore', category=UserWarning)\n",
    "    warnings.filterwarnings(action='ignore', category=RuntimeWarning)\n",
    "    # read data\n",
    "    print(\"Start to read training data and check the data format...\")\n",
    "    if sc_path.endswith(\".h5ad\"):\n",
    "        sc_data = sc.read_h5ad(sc_path)\n",
    "        sc_data = sc_data[sc_data.obs.Celltype_minor.isin(['B','Monocyte','NK','CD4Tn','M1','CD8Tex']),:]\n",
    "        meta = pd.DataFrame(sc_data.obs,index=sc_data.obs_names)\n",
    "        meta = meta.loc[sc_data.obs_names,:]\n",
    "        meta.index.name = 'Cell'\n",
    "        if isinstance(sc_data.X, np.ndarray):\n",
    "            pass\n",
    "        else:\n",
    "            sc_data.X = sc_data.X.toarray()\n",
    "        print(\"done\")\n",
    "    elif (sc_path is None) and (meta_path is None):\n",
    "        raise ValueError(\"For sc data, you must provide either a .h5ad file or paths for expression and meta.\")\n",
    "    else:\n",
    "        sc_data = read_file(sc_path,'training scRNA-seq')\n",
    "        \n",
    "        meta = read_file(meta_path,'training label')\n",
    "        sc_data = anndata.AnnData(sc_data)\n",
    "    if 'Celltype_major' or 'Celltype_minor' not in meta.columns:\n",
    "        TypeError(\"The metadata need to have 'Celltype_major' and 'Celltype_minor' information\")\n",
    "\n",
    "    # format data\n",
    "    sc_data = pd.DataFrame(sc_data.X.todense(),index=sc_data.obs_names,columns=sc_data.var_names).transpose()\n",
    "    #sc_data.index.name = 'GeneSymbol'\n",
    "    sc_data['GeneSymbol'] = sc_data.index\n",
    "    sc_data['GeneSymbol'] = sc_data['GeneSymbol'].apply(lambda x: x.split('.')[0])\n",
    "    sc_data=sc_data.groupby('GeneSymbol').mean()\n",
    "    sc_data = sc_data.reset_index()\n",
    "    sc_data = pd.DataFrame(sc_data.values[:,1:],index=sc_data['GeneSymbol'],columns=sc_data.columns[1:])\n",
    "    cell_id = meta.index.tolist()\n",
    "    common_id = list(set(cell_id) & set(sc_data.columns))\n",
    "    sc_data = sc_data.loc[:,common_id]\n",
    "    meta = meta.loc[common_id,:]\n",
    "    print(f\"Found {len(common_id)} valid cell\")\n",
    "    # save ref scrnaseq data\n",
    "    out_dir = check_paths(out_dir+'/cell_feature')\n",
    "    print('Saving ref scrna seq data...')\n",
    "    save_ref = False\n",
    "    if save_ref:\n",
    "        for i in set(meta['Celltype_minor'].values.tolist()): \n",
    "            cell_id = meta[meta['Celltype_minor']==i].index.tolist()\n",
    "            ref_sc = sc_data.loc[:,cell_id]\n",
    "            ref_sc.to_csv(out_dir+f\"/{i}_scrna.txt\",sep='\\t')\n",
    "\n",
    "    return sc_data, meta\n",
    "\n",
    "def get_stimulation(n_celltype,n_sample,meta,project,sc_data,out_dir,n,i_th=0,type='training'):\n",
    "    \"\"\"get stimulated expression data and cell type prop.\n",
    "    args:\n",
    "        type: string, training or testing.\n",
    "    \"\"\"\n",
    "    print(f'The {type} data generation...')\n",
    "    print(\"start to generate cell fraction...\")\n",
    "    cell_prop = np.random.dirichlet(np.ones(n_celltype), n_sample)\n",
    "    # get cell meta dictionary\n",
    "    meta_index = meta[['Celltype_minor']]\n",
    "    meta_index = meta_index.groupby(meta['Celltype_minor']).groups\n",
    "    for key, value in meta_index.items():\n",
    "        meta_index[key] = np.array(value)\n",
    "    cell_prop = cell_prop / np.sum(cell_prop, axis=1).reshape(-1, 1)\n",
    "    print(f'The number of samples is {cell_prop.shape[0]}, the number of cell types is {cell_prop.shape[1]}, cell number is {n}')\n",
    "    for i in range(int(cell_prop.shape[1])):\n",
    "        indices = np.random.choice(np.arange(cell_prop.shape[0]), replace=False, size=int(cell_prop.shape[0] * 0.1))\n",
    "        cell_prop[indices, i] = 0\n",
    "    # get cell number based on cell prop\n",
    "    print('Start sampling...')\n",
    "    sample = np.zeros((cell_prop.shape[0],sc_data.shape[0]))\n",
    "    allcellname = meta_index.keys()\n",
    "    cell_prop = cell_prop / np.sum(cell_prop, axis=1).reshape(-1, 1)\n",
    "    cell_num = np.floor(n * cell_prop)\n",
    "    for i, sample_prop in tqdm(enumerate(cell_num)):\n",
    "        for j, cellname in enumerate(allcellname):\n",
    "            select_index = choice(meta_index[cellname], size=int(sample_prop[j]), replace=True)\n",
    "            sample[i] += sc_data.loc[:,select_index].sum(axis=1)\n",
    "    sample = sample/n\n",
    "    print(\"Sampling down\")\n",
    "    sample = pd.DataFrame(sample,index=['Sample'+str(n_sample*(i_th)+i) for i in range(n_sample)],columns=sc_data.index.values)\n",
    "    cell_prop = pd.DataFrame(cell_prop,index=['Sample'+str(n_sample*(i_th)+i) for i in range(n_sample)],columns=allcellname)\n",
    "    return sample,cell_prop\n",
    "\n",
    "\n",
    "\n",
    "def bulk_simulation(sc_path,meta_path,project,sc_nor,out_dir,n_sample=100,n=500,test=False):\n",
    "    \"\"\"get stimulated training data and testing data.\n",
    "    args:\n",
    "        test: boolean, true for generating testing data.\n",
    "    \"\"\"\n",
    "    # read data\n",
    "    start_t = time.perf_counter()\n",
    "    sc_data, meta = read_single_cell_data(sc_path, meta_path, sc_nor, out_dir)\n",
    "    print(f\"Time to read and check training data: {round(time.perf_counter() - start_t, 2)} seconds\")\n",
    "\n",
    "    # training bulk rna\n",
    "    train_out_dir = check_paths(out_dir+'/training_data')\n",
    "    print('====================================================================')\n",
    "    print('====================================================================')\n",
    "    print('Start to stimulate the training bulk expression data ...')\n",
    "    start_t = time.perf_counter()\n",
    "    n_celltype = len(meta['Celltype_minor'].value_counts())\n",
    "    new_data = []\n",
    "    new_prop = []\n",
    "    for i in range(int(n/100)):\n",
    "        training_data,training_prop = get_stimulation(n_celltype,n_sample,meta,project,sc_data,train_out_dir,100*(i+1),i,type='training')\n",
    "        new_data.append(training_data)\n",
    "        new_prop.append(training_prop)\n",
    "    training_data = pd.concat(new_data)\n",
    "    training_prop = pd.concat(new_prop)\n",
    "    training_prop.rename(columns={\"B\":\"B cells\",\"M1\":\"Macrophages M1\",\"NK\":\"NK cells\",\"CD4Tn\":\"T CD4 naive cells\",\n",
    "                                                  \"CD8Tex\":\"T CD8 exhausted cells\",\"Monocyte\":\"Monocytes\"},inplace=True)\n",
    "    \n",
    "    print(f'Time to generate training data: {round(time.perf_counter() - start_t, 2)} seconds')\n",
    "\n",
    "    return training_data,training_prop"
   ]
  },
  {
   "cell_type": "code",
   "execution_count": 51,
   "metadata": {},
   "outputs": [],
   "source": [
    "training_sc_path = r\"/mnt/d/project/CytoBulk/CytoBulk/data/NSCLC_GSE127471.h5ad\"\n"
   ]
  },
  {
   "cell_type": "code",
   "execution_count": 52,
   "metadata": {},
   "outputs": [
    {
     "name": "stdout",
     "output_type": "stream",
     "text": [
      "Start to read training data and check the data format...\n",
      "done\n",
      "Found 989 valid cell\n",
      "Saving ref scrna seq data...\n",
      "Time to read and check training data: 2.27 seconds\n",
      "====================================================================\n",
      "====================================================================\n",
      "Start to stimulate the training bulk expression data ...\n",
      "The training data generation...\n",
      "start to generate cell fraction...\n",
      "The number of samples is 50, the number of cell types is 6, cell number is 100\n",
      "Start sampling...\n"
     ]
    },
    {
     "name": "stderr",
     "output_type": "stream",
     "text": [
      "50it [00:14,  3.38it/s]\n"
     ]
    },
    {
     "name": "stdout",
     "output_type": "stream",
     "text": [
      "Sampling down\n",
      "The training data generation...\n",
      "start to generate cell fraction...\n",
      "The number of samples is 50, the number of cell types is 6, cell number is 200\n",
      "Start sampling...\n"
     ]
    },
    {
     "name": "stderr",
     "output_type": "stream",
     "text": [
      "50it [00:17,  2.85it/s]\n"
     ]
    },
    {
     "name": "stdout",
     "output_type": "stream",
     "text": [
      "Sampling down\n",
      "The training data generation...\n",
      "start to generate cell fraction...\n",
      "The number of samples is 50, the number of cell types is 6, cell number is 300\n",
      "Start sampling...\n"
     ]
    },
    {
     "name": "stderr",
     "output_type": "stream",
     "text": [
      "50it [00:19,  2.51it/s]\n"
     ]
    },
    {
     "name": "stdout",
     "output_type": "stream",
     "text": [
      "Sampling down\n",
      "The training data generation...\n",
      "start to generate cell fraction...\n",
      "The number of samples is 50, the number of cell types is 6, cell number is 400\n",
      "Start sampling...\n"
     ]
    },
    {
     "name": "stderr",
     "output_type": "stream",
     "text": [
      "50it [00:22,  2.26it/s]\n"
     ]
    },
    {
     "name": "stdout",
     "output_type": "stream",
     "text": [
      "Sampling down\n",
      "The training data generation...\n",
      "start to generate cell fraction...\n",
      "The number of samples is 50, the number of cell types is 6, cell number is 500\n",
      "Start sampling...\n"
     ]
    },
    {
     "name": "stderr",
     "output_type": "stream",
     "text": [
      "50it [00:24,  2.02it/s]"
     ]
    },
    {
     "name": "stdout",
     "output_type": "stream",
     "text": [
      "Sampling down\n",
      "Time to generate training data: 99.22 seconds\n"
     ]
    },
    {
     "name": "stderr",
     "output_type": "stream",
     "text": [
      "\n"
     ]
    }
   ],
   "source": [
    "training_data, training_prop= bulk_simulation(sc_path = training_sc_path,\n",
    "                                                meta_path = \"\",\n",
    "                                                project = \"NSCLC_GSE127471\",\n",
    "                                                sc_nor = False,\n",
    "                                                out_dir = \"./test\",\n",
    "                                                n_sample = 50)"
   ]
  },
  {
   "cell_type": "code",
   "execution_count": 53,
   "metadata": {},
   "outputs": [
    {
     "data": {
      "text/html": [
       "<div>\n",
       "<style scoped>\n",
       "    .dataframe tbody tr th:only-of-type {\n",
       "        vertical-align: middle;\n",
       "    }\n",
       "\n",
       "    .dataframe tbody tr th {\n",
       "        vertical-align: top;\n",
       "    }\n",
       "\n",
       "    .dataframe thead th {\n",
       "        text-align: right;\n",
       "    }\n",
       "</style>\n",
       "<table border=\"1\" class=\"dataframe\">\n",
       "  <thead>\n",
       "    <tr style=\"text-align: right;\">\n",
       "      <th></th>\n",
       "      <th>B cells</th>\n",
       "      <th>T CD4 naive cells</th>\n",
       "      <th>T CD8 exhausted cells</th>\n",
       "      <th>Macrophages M1</th>\n",
       "      <th>Monocytes</th>\n",
       "      <th>NK cells</th>\n",
       "    </tr>\n",
       "  </thead>\n",
       "  <tbody>\n",
       "    <tr>\n",
       "      <th>Sample0</th>\n",
       "      <td>0.000000</td>\n",
       "      <td>0.081685</td>\n",
       "      <td>0.032337</td>\n",
       "      <td>0.683340</td>\n",
       "      <td>0.000000</td>\n",
       "      <td>0.202639</td>\n",
       "    </tr>\n",
       "    <tr>\n",
       "      <th>Sample1</th>\n",
       "      <td>0.000000</td>\n",
       "      <td>0.127641</td>\n",
       "      <td>0.000000</td>\n",
       "      <td>0.332838</td>\n",
       "      <td>0.306193</td>\n",
       "      <td>0.233328</td>\n",
       "    </tr>\n",
       "    <tr>\n",
       "      <th>Sample2</th>\n",
       "      <td>0.146582</td>\n",
       "      <td>0.083662</td>\n",
       "      <td>0.272163</td>\n",
       "      <td>0.197169</td>\n",
       "      <td>0.073879</td>\n",
       "      <td>0.226545</td>\n",
       "    </tr>\n",
       "    <tr>\n",
       "      <th>Sample3</th>\n",
       "      <td>0.102203</td>\n",
       "      <td>0.100671</td>\n",
       "      <td>0.373016</td>\n",
       "      <td>0.365184</td>\n",
       "      <td>0.040844</td>\n",
       "      <td>0.018083</td>\n",
       "    </tr>\n",
       "    <tr>\n",
       "      <th>Sample4</th>\n",
       "      <td>0.084241</td>\n",
       "      <td>0.000000</td>\n",
       "      <td>0.033593</td>\n",
       "      <td>0.529427</td>\n",
       "      <td>0.022402</td>\n",
       "      <td>0.330337</td>\n",
       "    </tr>\n",
       "    <tr>\n",
       "      <th>...</th>\n",
       "      <td>...</td>\n",
       "      <td>...</td>\n",
       "      <td>...</td>\n",
       "      <td>...</td>\n",
       "      <td>...</td>\n",
       "      <td>...</td>\n",
       "    </tr>\n",
       "    <tr>\n",
       "      <th>Sample245</th>\n",
       "      <td>0.149200</td>\n",
       "      <td>0.053832</td>\n",
       "      <td>0.018151</td>\n",
       "      <td>0.567827</td>\n",
       "      <td>0.209035</td>\n",
       "      <td>0.001955</td>\n",
       "    </tr>\n",
       "    <tr>\n",
       "      <th>Sample246</th>\n",
       "      <td>0.067729</td>\n",
       "      <td>0.202608</td>\n",
       "      <td>0.105839</td>\n",
       "      <td>0.052982</td>\n",
       "      <td>0.394417</td>\n",
       "      <td>0.176426</td>\n",
       "    </tr>\n",
       "    <tr>\n",
       "      <th>Sample247</th>\n",
       "      <td>0.099286</td>\n",
       "      <td>0.398998</td>\n",
       "      <td>0.104464</td>\n",
       "      <td>0.019025</td>\n",
       "      <td>0.088850</td>\n",
       "      <td>0.289378</td>\n",
       "    </tr>\n",
       "    <tr>\n",
       "      <th>Sample248</th>\n",
       "      <td>0.093964</td>\n",
       "      <td>0.121864</td>\n",
       "      <td>0.000000</td>\n",
       "      <td>0.493003</td>\n",
       "      <td>0.093337</td>\n",
       "      <td>0.197832</td>\n",
       "    </tr>\n",
       "    <tr>\n",
       "      <th>Sample249</th>\n",
       "      <td>0.029152</td>\n",
       "      <td>0.344277</td>\n",
       "      <td>0.482634</td>\n",
       "      <td>0.056188</td>\n",
       "      <td>0.016872</td>\n",
       "      <td>0.070877</td>\n",
       "    </tr>\n",
       "  </tbody>\n",
       "</table>\n",
       "<p>250 rows × 6 columns</p>\n",
       "</div>"
      ],
      "text/plain": [
       "            B cells  T CD4 naive cells  T CD8 exhausted cells  Macrophages M1   \n",
       "Sample0    0.000000           0.081685               0.032337        0.683340  \\\n",
       "Sample1    0.000000           0.127641               0.000000        0.332838   \n",
       "Sample2    0.146582           0.083662               0.272163        0.197169   \n",
       "Sample3    0.102203           0.100671               0.373016        0.365184   \n",
       "Sample4    0.084241           0.000000               0.033593        0.529427   \n",
       "...             ...                ...                    ...             ...   \n",
       "Sample245  0.149200           0.053832               0.018151        0.567827   \n",
       "Sample246  0.067729           0.202608               0.105839        0.052982   \n",
       "Sample247  0.099286           0.398998               0.104464        0.019025   \n",
       "Sample248  0.093964           0.121864               0.000000        0.493003   \n",
       "Sample249  0.029152           0.344277               0.482634        0.056188   \n",
       "\n",
       "           Monocytes  NK cells  \n",
       "Sample0     0.000000  0.202639  \n",
       "Sample1     0.306193  0.233328  \n",
       "Sample2     0.073879  0.226545  \n",
       "Sample3     0.040844  0.018083  \n",
       "Sample4     0.022402  0.330337  \n",
       "...              ...       ...  \n",
       "Sample245   0.209035  0.001955  \n",
       "Sample246   0.394417  0.176426  \n",
       "Sample247   0.088850  0.289378  \n",
       "Sample248   0.093337  0.197832  \n",
       "Sample249   0.016872  0.070877  \n",
       "\n",
       "[250 rows x 6 columns]"
      ]
     },
     "execution_count": 53,
     "metadata": {},
     "output_type": "execute_result"
    }
   ],
   "source": [
    "training_prop"
   ]
  },
  {
   "cell_type": "code",
   "execution_count": 55,
   "metadata": {},
   "outputs": [],
   "source": [
    "training_data.to_csv(r\"/mnt/d/project/CytoBulk/CytoBulk/CytoBulk/test/training_data/NSCLC_GSE127471_expression.csv\")\n",
    "other_method_input = training_data.transpose()\n",
    "other_method_input.index.name = 'GeneSymbol'\n",
    "other_method_input.to_csv(r\"/mnt/d/project/CytoBulk/CytoBulk/CytoBulk/test/training_data/other_training_data.csv\")"
   ]
  },
  {
   "cell_type": "code",
   "execution_count": 54,
   "metadata": {},
   "outputs": [],
   "source": [
    "training_prop.to_csv(r\"/mnt/d/project/CytoBulk/CytoBulk/CytoBulk/test/training_data/NSCLC_GSE127471_fraction.csv\")"
   ]
  },
  {
   "cell_type": "code",
   "execution_count": 27,
   "metadata": {},
   "outputs": [],
   "source": [
    "training_data.to_csv(r\"/mnt/d/project/CytoBulk/CytoBulk/CytoBulk/test/training_data/NSCLC_GSE127471_expression.csv\")"
   ]
  }
 ],
 "metadata": {
  "kernelspec": {
   "display_name": "cytobulk",
   "language": "python",
   "name": "python3"
  },
  "language_info": {
   "codemirror_mode": {
    "name": "ipython",
    "version": 3
   },
   "file_extension": ".py",
   "mimetype": "text/x-python",
   "name": "python",
   "nbconvert_exporter": "python",
   "pygments_lexer": "ipython3",
   "version": "3.9.16"
  },
  "orig_nbformat": 4,
  "vscode": {
   "interpreter": {
    "hash": "a55faa38e079849490b9fd1fe63f57b99dfa6cb685524941d97e4cb1dd6dffd8"
   }
  }
 },
 "nbformat": 4,
 "nbformat_minor": 2
}
